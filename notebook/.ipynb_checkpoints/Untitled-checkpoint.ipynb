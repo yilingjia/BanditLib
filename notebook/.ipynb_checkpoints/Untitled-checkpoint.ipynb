{
 "cells": [
  {
   "cell_type": "code",
   "execution_count": 4,
   "metadata": {},
   "outputs": [],
   "source": [
    "import numpy as np\n",
    "import pickle\n",
    "import pandas as pd\n",
    "%matplotlib inline\n",
    "import matplotlib.pyplot as plt\n",
    "import glob\n",
    "import csv"
   ]
  },
  {
   "cell_type": "code",
   "execution_count": 80,
   "metadata": {},
   "outputs": [
    {
     "name": "stdout",
     "output_type": "stream",
     "text": [
      "../Results/LastFMResults/AccRegret_03_09_23_50.csv\n",
      "../Results/LastFMResults/AccRegret_03_09_23_57.csv\n",
      "../Results/LastFMResults/AccRegret_03_09_23_34.csv\n",
      "../Results/LastFMResults/AccRegret_03_09_23_46.csv\n",
      "../Results/LastFMResults/AccRegret_03_09_23_41.csv\n",
      "../Results/LastFMResults/AccRegret_03_09_23_56.csv\n",
      "../Results/LastFMResults/AccRegret_03_09_23_47.csv\n",
      "../Results/LastFMResults/AccRegret_03_09_23_49.csv\n",
      "../Results/LastFMResults/AccRegret_03_09_23_35.csv\n",
      "../Results/LastFMResults/AccRegret_03_09_23_32.csv\n",
      "../Results/LastFMResults/AccRegret_03_09_23_43.csv\n",
      "../Results/LastFMResults/AccRegret_03_09_23_36.csv\n",
      "../Results/LastFMResults/AccRegret_03_09_23_52.csv\n",
      "../Results/LastFMResults/AccRegret_03_09_23_45.csv\n",
      "../Results/LastFMResults/AccRegret_03_09_23_39.csv\n"
     ]
    }
   ],
   "source": [
    "filenames = glob.glob(\"../Results/LastFMResults/AccRegret_03_09_23*\")\n",
    "random_result = {}\n",
    "linucb_result = {}\n",
    "c = 0\n",
    "for fname in filenames:\n",
    "    random_result[c] = []\n",
    "    linucb_result[c] = []\n",
    "    print(fname)\n",
    "    with open(fname, newline='') as csvfile:\n",
    "        reader = csv.DictReader(csvfile)\n",
    "\n",
    "        for row in reader:\n",
    "            random_result[c].append(int(row[\"Time(Iteration)\"]) - int(row['Random']))\n",
    "            linucb_result[c].append(int(row[\"Time(Iteration)\"]) - int(row['LinUCB']))\n",
    "    c += 1\n",
    "    \n",
    "filenames = glob.glob(\"../Results/LastFMResults/AccRegret_03_10_00_0*\")\n",
    "for fname in filenames:\n",
    "    random_result[c] = []\n",
    "    linucb_result[c] = []\n",
    "   \n",
    "    with open(fname, newline='') as csvfile:\n",
    "        reader = csv.DictReader(csvfile)\n",
    "\n",
    "        for row in reader:\n",
    "            random_result[c].append(int(row[\"Time(Iteration)\"]) - int(row['Random']))\n",
    "            linucb_result[c].append(int(row[\"Time(Iteration)\"]) - int(row['LinUCB']))\n",
    "    c += 1\n",
    "filenames = glob.glob(\"../Results/LastFMResults/AccRegret_03_10_00_1*\")\n",
    "           \n",
    "for fname in filenames:\n",
    "    random_result[c] = []\n",
    "    linucb_result[c] = []\n",
    "   \n",
    "    with open(fname, newline='') as csvfile:\n",
    "        reader = csv.DictReader(csvfile)\n",
    "\n",
    "        for row in reader:\n",
    "            random_result[c].append(int(row[\"Time(Iteration)\"]) - int(row['Random']))\n",
    "            linucb_result[c].append(int(row[\"Time(Iteration)\"]) - int(row['LinUCB']))\n",
    "    c += 1"
   ]
  },
  {
   "cell_type": "code",
   "execution_count": 49,
   "metadata": {},
   "outputs": [
    {
     "data": {
      "text/plain": [
       "[6.611081654294804,\n",
       " 7.5136786188579014,\n",
       " 6.7566302652106085,\n",
       " 6.077363896848137,\n",
       " 7.113207547169812,\n",
       " 7.42579968536969,\n",
       " 4.851041666666666,\n",
       " 5.3087691494981515,\n",
       " 7.255417956656347,\n",
       " 5.374809547993905,\n",
       " 7.015689300411522,\n",
       " 7.486195109124376,\n",
       " 7.341815320041973,\n",
       " 7.110677083333333,\n",
       " 7.447561615102255,\n",
       " 6.052382205843643,\n",
       " 6.826755509994874,\n",
       " 4.776285197623353,\n",
       " 6.982072238333773,\n",
       " 5.889498432601881,\n",
       " 7.149679829242262,\n",
       " 4.792235047219307,\n",
       " 6.679802955665025,\n",
       " 6.716348633316143,\n",
       " 6.780631353665061]"
      ]
     },
     "execution_count": 49,
     "metadata": {},
     "output_type": "execute_result"
    }
   ],
   "source": [
    "ratio"
   ]
  },
  {
   "cell_type": "code",
   "execution_count": 41,
   "metadata": {},
   "outputs": [
    {
     "data": {
      "text/plain": [
       "7.5136786188579014"
      ]
     },
     "execution_count": 41,
     "metadata": {},
     "output_type": "execute_result"
    }
   ],
   "source": [
    "ratio = []\n",
    "for i in range(c):\n",
    "    ratio.append(linucb_result[i][-1] / random_result[i][-1])\n",
    "max(ratio)"
   ]
  },
  {
   "cell_type": "code",
   "execution_count": 87,
   "metadata": {},
   "outputs": [],
   "source": [
    "result = {}"
   ]
  },
  {
   "cell_type": "code",
   "execution_count": 95,
   "metadata": {},
   "outputs": [],
   "source": [
    "fname = \"../Results/LastFMResults/AccRegret_03_09_23_34.csv\"\n",
    "r = []\n",
    "l = []\n",
    "result['LinUCB'] = []\n",
    "with open(fname, newline='') as csvfile:\n",
    "    reader = csv.DictReader(csvfile)\n",
    "\n",
    "    for row in reader:\n",
    "        r.append(int(row[\"Time(Iteration)\"]) - int(row['Random']))\n",
    "        l.append(int(row[\"Time(Iteration)\"]) - int(row['LinUCB']))\n",
    "        result['LinUCB'].append((int(row[\"Time(Iteration)\"]) - int(row['LinUCB'])) / (int(row[\"Time(Iteration)\"]) - int(row['Random'])))"
   ]
  },
  {
   "cell_type": "code",
   "execution_count": 96,
   "metadata": {},
   "outputs": [
    {
     "data": {
      "text/plain": [
       "6.7566302652106085"
      ]
     },
     "execution_count": 96,
     "metadata": {},
     "output_type": "execute_result"
    }
   ],
   "source": [
    "l[-1]/r[-1]"
   ]
  },
  {
   "cell_type": "code",
   "execution_count": 97,
   "metadata": {},
   "outputs": [],
   "source": [
    "fname = \"../Results/LastFMResults/AccRegret_03_09_23_57.csv\"\n",
    "r = []\n",
    "l = []\n",
    "result['NeuralUCB'] = []\n",
    "with open(fname, newline='') as csvfile:\n",
    "    reader = csv.DictReader(csvfile)\n",
    "\n",
    "    for row in reader:\n",
    "        r.append(int(row[\"Time(Iteration)\"]) - int(row['Random']))\n",
    "        l.append(int(row[\"Time(Iteration)\"]) - int(row['LinUCB']))\n",
    "        result['NeuralUCB'].append((int(row[\"Time(Iteration)\"]) - int(row['LinUCB'])) / (int(row[\"Time(Iteration)\"]) - int(row['Random'])))\n",
    "c += 1"
   ]
  },
  {
   "cell_type": "code",
   "execution_count": 98,
   "metadata": {},
   "outputs": [
    {
     "data": {
      "text/plain": [
       "7.5136786188579014"
      ]
     },
     "execution_count": 98,
     "metadata": {},
     "output_type": "execute_result"
    }
   ],
   "source": [
    "l[-1]/r[-1]"
   ]
  },
  {
   "cell_type": "code",
   "execution_count": 99,
   "metadata": {},
   "outputs": [],
   "source": [
    "fname = \"../Results/LastFMResults/AccRegret_03_10_06_49.csv\"\n",
    "r = []\n",
    "l = []\n",
    "result['NeuralPHE'] = []\n",
    "with open(fname, newline='') as csvfile:\n",
    "    reader = csv.DictReader(csvfile)\n",
    "\n",
    "    for row in reader:\n",
    "        r.append(int(row[\"Time(Iteration)\"]) - int(row['Random']))\n",
    "        l.append(int(row[\"Time(Iteration)\"]) - int(row['NeuralPHE']))\n",
    "        result['NeuralPHE'].append((int(row[\"Time(Iteration)\"]) - int(row['NeuralPHE'])) / (int(row[\"Time(Iteration)\"]) - int(row['Random'])))\n",
    "c += 1"
   ]
  },
  {
   "cell_type": "code",
   "execution_count": 104,
   "metadata": {},
   "outputs": [
    {
     "data": {
      "text/plain": [
       "Text(0, 0.5, 'normalized payoff')"
      ]
     },
     "execution_count": 104,
     "metadata": {},
     "output_type": "execute_result"
    },
    {
     "data": {
      "image/png": "[encoded data removed]",
      "text/plain": [
       "<Figure size 432x288 with 1 Axes>"
      ]
     },
     "metadata": {
      "needs_background": "light"
     },
     "output_type": "display_data"
    }
   ],
   "source": [
    "ax = pd.DataFrame(result).plot()\n",
    "ax.set_xlabel(\"impressions\")\n",
    "ax.set_ylabel(\"normalized payoff\")"
   ]
  },
  {
   "cell_type": "code",
   "execution_count": null,
   "metadata": {},
   "outputs": [],
   "source": []
  }
 ],
 "metadata": {
  "kernelspec": {
   "display_name": "Python 3",
   "language": "python",
   "name": "python3"
  },
  "language_info": {
   "codemirror_mode": {
    "name": "ipython",
    "version": 3
   },
   "file_extension": ".py",
   "mimetype": "text/x-python",
   "name": "python",
   "nbconvert_exporter": "python",
   "pygments_lexer": "ipython3",
   "version": "3.7.6"
  }
 },
 "nbformat": 4,
 "nbformat_minor": 4
}
